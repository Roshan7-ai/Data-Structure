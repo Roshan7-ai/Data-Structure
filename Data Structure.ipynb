{
 "cells": [
  {
   "cell_type": "markdown",
   "id": "b2b08c58-cc86-4c0c-a7cd-72a3a3ec1074",
   "metadata": {},
   "source": [
    "# Question 1"
   ]
  },
  {
   "cell_type": "markdown",
   "id": "90142b31-9f16-4f49-b3e7-8aa7600fc5b6",
   "metadata": {},
   "source": [
    "## Discuss string slicing and provide examples."
   ]
  },
  {
   "cell_type": "raw",
   "id": "bc7019cf-4800-46dd-9f07-67666355eeb9",
   "metadata": {},
   "source": [
    ">> String slicing refers to the ability to extract a portion/substring of a string by specifying a range of indices.\n",
    "\n",
    ">> In Python, strings are treated as sequences of characters, and slicing allows you to extract a part of this sequence."
   ]
  },
  {
   "cell_type": "markdown",
   "id": "697b4669-5c09-4760-a256-d0492fa8027d",
   "metadata": {},
   "source": [
    "### The basic syntax for string slicing is:  \n",
    "\n",
    "string[start:end:step]"
   ]
  },
  {
   "cell_type": "raw",
   "id": "f4fbbc4e-3768-4482-809f-95ef1576c331",
   "metadata": {},
   "source": [
    "Where, \n",
    "\n",
    ">> 'start' is the index to start the slice. If omitted, slicing starts from the beginning (index 0).\n",
    "\n",
    ">> 'end' is the index where slicing ends. If omitted, slicing goes up to the end of the string.\n",
    "\n",
    ">> 'step' indicates how many characters to jump over as you move through the string. The default step is 1."
   ]
  },
  {
   "cell_type": "markdown",
   "id": "c27532bc-1c30-4d0a-bec4-4571dfd2b2eb",
   "metadata": {},
   "source": [
    "### Key Concepts"
   ]
  },
  {
   "cell_type": "markdown",
   "id": "0ec0090e-a8d1-4d5e-afa4-4effe5db1512",
   "metadata": {},
   "source": [
    "#### >> Zero-based indexing: \n",
    "\n",
    "The first character in the string has index 0, the second character has index 1, and so on.\n",
    "\n",
    "#### >> Negative indexing: \n",
    "\n",
    "Python allows negative indexing, where -1 refers to the last character, -2 to the second last, and so on."
   ]
  },
  {
   "cell_type": "markdown",
   "id": "95ec9909-2413-4eeb-855a-5aaccc185ad6",
   "metadata": {},
   "source": [
    "### Examples"
   ]
  },
  {
   "cell_type": "markdown",
   "id": "8305c7f8-5d63-4995-9443-f1fee6352b80",
   "metadata": {},
   "source": [
    "#### 1. Basic Slicing"
   ]
  },
  {
   "cell_type": "code",
   "execution_count": 11,
   "id": "16667206-c355-4ffa-a8a4-3d1df5c3abe0",
   "metadata": {},
   "outputs": [
    {
     "name": "stdout",
     "output_type": "stream",
     "text": [
      "Hello\n"
     ]
    }
   ],
   "source": [
    "# Extracting a substring from a string.\n",
    "\n",
    "text = \"Hello, World!\"\n",
    "substring = text[0:5] # Slice from index 0 to index 5 (excluding 5)\n",
    "print(substring)      # Output: Hello"
   ]
  },
  {
   "cell_type": "markdown",
   "id": "36dfbb2e-bb30-4a36-b2d9-4b6fc4c6db49",
   "metadata": {},
   "source": [
    "In the above example, substring includes characters from index 0 (H) to index 4 (o), but excludes the character at index 5."
   ]
  },
  {
   "cell_type": "markdown",
   "id": "effe7338-cdb4-4b23-b05d-c745f625902b",
   "metadata": {},
   "source": [
    "#### 2. Slicing with Omitted Start and End"
   ]
  },
  {
   "cell_type": "code",
   "execution_count": 5,
   "id": "9b523675-61a3-4391-b33c-799c997a1490",
   "metadata": {},
   "outputs": [
    {
     "name": "stdout",
     "output_type": "stream",
     "text": [
      "Hello\n"
     ]
    }
   ],
   "source": [
    "# You can omit the start or end to slice from the beginning or to the end of the string.\n",
    "\n",
    "# Example with omitted start\n",
    "\n",
    "text = \"Hello, World!\"\n",
    "substring = text[:5] # Slice from the beginning to index 5\n",
    "print(substring)     # Output: Hello"
   ]
  },
  {
   "cell_type": "code",
   "execution_count": 6,
   "id": "04713eec-6d30-491b-acbd-1831c74d7804",
   "metadata": {},
   "outputs": [
    {
     "name": "stdout",
     "output_type": "stream",
     "text": [
      "World!\n"
     ]
    }
   ],
   "source": [
    "#Example with omitted end\n",
    "\n",
    "substring = text[7:] # Slice from index 7 to the end\n",
    "print(substring)     # Output: World!"
   ]
  },
  {
   "cell_type": "markdown",
   "id": "34418a0e-3bb4-4f0f-b028-1b8e0c5aba24",
   "metadata": {},
   "source": [
    "#### 3. Slicing with Step"
   ]
  },
  {
   "cell_type": "code",
   "execution_count": 9,
   "id": "fd3f66ec-b7f4-433c-9a40-12108b7ccf6e",
   "metadata": {},
   "outputs": [
    {
     "name": "stdout",
     "output_type": "stream",
     "text": [
      "wkl\n"
     ]
    }
   ],
   "source": [
    "# The step argument allows you to skip characters in the slicing.\n",
    "\n",
    "text = \"Pwskills Lab\"\n",
    "substring = text[1:6:2] # Slice every second character from index 1 to 6\n",
    "print(substring)        # Output: wkl"
   ]
  },
  {
   "cell_type": "markdown",
   "id": "9ce3293d-17a6-4697-9eff-651a47de96ba",
   "metadata": {},
   "source": [
    "#### 4. Negative Indexing"
   ]
  },
  {
   "cell_type": "code",
   "execution_count": 10,
   "id": "a02ae685-aeaa-4dd4-99c1-be96504c5fd8",
   "metadata": {},
   "outputs": [
    {
     "name": "stdout",
     "output_type": "stream",
     "text": [
      "World\n"
     ]
    }
   ],
   "source": [
    "# You can use negative indices to count from the end of the string.\n",
    "\n",
    "text = \"Hello, World!\"\n",
    "substring = text[-6:-1] # Slice from the 6th last character to the 2nd last character\n",
    "print(substring)        # Output: World"
   ]
  },
  {
   "cell_type": "markdown",
   "id": "99226271-0bc8-4a3d-865e-9e07b1139943",
   "metadata": {},
   "source": [
    "#### 5. Reversing a String"
   ]
  },
  {
   "cell_type": "code",
   "execution_count": 12,
   "id": "0b8837f9-f64d-48d4-b57c-23fdf686c389",
   "metadata": {},
   "outputs": [
    {
     "name": "stdout",
     "output_type": "stream",
     "text": [
      "!dlroW ,olleH\n"
     ]
    }
   ],
   "source": [
    "# You can reverse a string using slicing with a negative step.\n",
    "\n",
    "text = \"Hello, World!\"\n",
    "reversed_text = text[::-1] # Reverse the string\n",
    "print(reversed_text)       # Output: !dlroW ,olleH"
   ]
  },
  {
   "cell_type": "markdown",
   "id": "4a6f9f3f-f4de-4887-9bec-0ca92bdc50c3",
   "metadata": {},
   "source": [
    "#### 6. Extracting a Substring from the Middle"
   ]
  },
  {
   "cell_type": "code",
   "execution_count": 13,
   "id": "70dcc770-0bac-4a37-af85-6415b20f5c21",
   "metadata": {},
   "outputs": [
    {
     "name": "stdout",
     "output_type": "stream",
     "text": [
      "Programming\n"
     ]
    }
   ],
   "source": [
    "text = \"Python Programming\"\n",
    "substring = text[7:] # Extract \"Programming\"\n",
    "print(substring)     # Output: Programming"
   ]
  },
  {
   "cell_type": "markdown",
   "id": "dffdbc81-e973-4135-aef9-81f788af9c18",
   "metadata": {},
   "source": [
    "#### 7. Combining Step with Negative Indexing"
   ]
  },
  {
   "cell_type": "code",
   "execution_count": 16,
   "id": "8aee3c62-103f-470f-aa8a-bd50802a9da0",
   "metadata": {},
   "outputs": [
    {
     "name": "stdout",
     "output_type": "stream",
     "text": [
      "blslkw\n"
     ]
    }
   ],
   "source": [
    "text = \"Pwskills lab\"\n",
    "substring = text[::-2] # Slice every second character, starting from the last\n",
    "print(substring)       # Output: blslkw"
   ]
  },
  {
   "cell_type": "markdown",
   "id": "001d85b2-cb70-4af3-aa7e-7eb0506de037",
   "metadata": {},
   "source": [
    "### Conclusion"
   ]
  },
  {
   "cell_type": "raw",
   "id": "7132d895-962c-4ccc-9519-ae4176c30f4b",
   "metadata": {},
   "source": [
    ">> String slicing is a powerful feature in Python that allows for flexible manipulation of substrings. \n",
    "\n",
    ">> By using the start, end, and step values, you can extract specific parts of strings, reverse them, or skip over characters."
   ]
  },
  {
   "cell_type": "markdown",
   "id": "679a84aa-0ed0-4589-ab19-41dde8d91286",
   "metadata": {},
   "source": [
    "# Question 2"
   ]
  },
  {
   "cell_type": "markdown",
   "id": "ef2cd7f9-5ad8-4526-a71e-f77e60a257e3",
   "metadata": {},
   "source": [
    "## Explain the key features of lists in Python."
   ]
  },
  {
   "cell_type": "raw",
   "id": "fb4f7a13-8c57-4386-9856-26fde479f842",
   "metadata": {},
   "source": [
    ">> In Python, a list is one of the most versatile and widely used data structures.\n",
    "\n",
    ">> It is an ordered collection of items, which can be of any data type (integers, floats, strings, other lists, etc.)."
   ]
  },
  {
   "cell_type": "markdown",
   "id": "41ba13c6-86e4-48dc-993f-a074fa996e50",
   "metadata": {},
   "source": [
    "### Key features of Python lists"
   ]
  },
  {
   "cell_type": "markdown",
   "id": "360aa139-a174-4421-9f0a-57c31d8306f3",
   "metadata": {},
   "source": [
    "#### 1. Ordered"
   ]
  },
  {
   "cell_type": "raw",
   "id": "4c49aac8-c24d-42fb-b0c1-c3bd3755e18a",
   "metadata": {},
   "source": [
    ">> Lists maintain the order of elements. This means that the items in a list have a specific order, and the order in which elements are added is preserved. \n",
    "\n",
    ">> Elements can be accessed by their index, starting from 0."
   ]
  },
  {
   "cell_type": "code",
   "execution_count": 7,
   "id": "95bab06f-f1de-4221-93a6-1a26bba83c8c",
   "metadata": {},
   "outputs": [
    {
     "name": "stdout",
     "output_type": "stream",
     "text": [
      "1\n"
     ]
    }
   ],
   "source": [
    "# Example for Ordered.\n",
    "\n",
    "my_list = [1, 2, 3, 4]\n",
    "print(my_list[0])  # Output: 1"
   ]
  },
  {
   "cell_type": "markdown",
   "id": "a9e5fa6d-3d4c-46c3-acab-83a2f4dca2f6",
   "metadata": {},
   "source": [
    "#### 2. Mutable"
   ]
  },
  {
   "cell_type": "raw",
   "id": "71bb1cca-b895-496d-ae0a-6bcbc7fef33b",
   "metadata": {},
   "source": [
    ">> Lists are mutable, meaning that the elements within a list can be changed after the list has been created.\n",
    "\n",
    ">> You can modify, remove, or add elements without creating a new list."
   ]
  },
  {
   "cell_type": "code",
   "execution_count": 8,
   "id": "173dc3ac-4390-4442-9879-a643a10f85dd",
   "metadata": {},
   "outputs": [
    {
     "name": "stdout",
     "output_type": "stream",
     "text": [
      "[100, 2, 3]\n"
     ]
    }
   ],
   "source": [
    "# Example for Mutable.\n",
    "\n",
    "my_list = [1, 2, 3]\n",
    "my_list[0] = 100\n",
    "print(my_list)  # Output: [100, 2, 3]"
   ]
  },
  {
   "cell_type": "markdown",
   "id": "b8166829-334b-4a56-9f94-8ade24867bf2",
   "metadata": {},
   "source": [
    "#### 3. Dynamic Size"
   ]
  },
  {
   "cell_type": "raw",
   "id": "4a19a27a-ad1d-4f43-912e-7728d1d43dc0",
   "metadata": {},
   "source": [
    ">> Python lists can grow or shrink in size dynamically. \n",
    "\n",
    ">> You can add or remove elements as needed, and Python automatically handles memory allocation."
   ]
  },
  {
   "cell_type": "code",
   "execution_count": 11,
   "id": "6f9ab02c-983e-4376-90b0-6161b2521ddd",
   "metadata": {},
   "outputs": [
    {
     "name": "stdout",
     "output_type": "stream",
     "text": [
      "[1, 2, 3, 4]\n"
     ]
    }
   ],
   "source": [
    "# Example for Dynamic Size.\n",
    "\n",
    "my_list = [1, 2, 3]\n",
    "my_list.append(4)  # Adding an element\n",
    "print(my_list)     # Output: [1, 2, 3, 4]"
   ]
  },
  {
   "cell_type": "markdown",
   "id": "4164d766-a1bc-47e9-b018-7e6a51371789",
   "metadata": {},
   "source": [
    "#### 4. Heterogeneous Elements"
   ]
  },
  {
   "cell_type": "raw",
   "id": "002efed3-1c60-4ed3-ba79-e81b6a5b9aa3",
   "metadata": {},
   "source": [
    ">> A list can hold elements of different data types. \n",
    "\n",
    ">> You can store integers, floats, strings, and even other lists within a single list."
   ]
  },
  {
   "cell_type": "code",
   "execution_count": 13,
   "id": "a22fa447-6534-47d3-b826-89a0272af1a0",
   "metadata": {},
   "outputs": [
    {
     "name": "stdout",
     "output_type": "stream",
     "text": [
      "[1, 'hello', 3.5, [2, 4]]\n"
     ]
    }
   ],
   "source": [
    "# Example of Heterogeneous Elements.\n",
    "\n",
    "my_list = [1, \"hello\", 3.5, [2, 4]]\n",
    "print(my_list) # Output: [1, 'hello', 3.5, [2, 4]]"
   ]
  },
  {
   "cell_type": "markdown",
   "id": "eec8b267-341b-4590-ba24-968acec7b21b",
   "metadata": {},
   "source": [
    "#### 5. Indexing and Slicing"
   ]
  },
  {
   "cell_type": "raw",
   "id": "061d3502-c225-4c7f-ac7e-fdb05d8adb94",
   "metadata": {},
   "source": [
    ">> You can access individual elements using indexing. \n",
    "\n",
    ">> Negative indexing allows you to access elements from the end of the list. \n",
    "\n",
    ">> Lists also support slicing, which allows you to access a range of elements."
   ]
  },
  {
   "cell_type": "code",
   "execution_count": 14,
   "id": "09ce8735-9d81-4b50-828b-eea92d244d82",
   "metadata": {},
   "outputs": [
    {
     "name": "stdout",
     "output_type": "stream",
     "text": [
      "1\n",
      "5\n",
      "[2, 3]\n"
     ]
    }
   ],
   "source": [
    "# Example of Indexing and slicing.\n",
    "\n",
    "my_list = [1, 2, 3, 4, 5]\n",
    "print(my_list[0])     # Output: 1\n",
    "print(my_list[-1])    # Output: 5 (last element)\n",
    "print(my_list[1:3])   # Output: [2, 3] (slicing)"
   ]
  },
  {
   "cell_type": "markdown",
   "id": "74253151-1178-4a52-a13f-aad1e113cbb6",
   "metadata": {},
   "source": [
    "#### 6. Supports Common Methods"
   ]
  },
  {
   "cell_type": "raw",
   "id": "190001fb-72c3-4845-86bf-fe26eed4b295",
   "metadata": {},
   "source": [
    ">> Lists support a variety of built-in methods for adding, removing, and manipulating elements:\n",
    "\n",
    ">> append(): Adds an element to the end of the list.\n",
    "\n",
    ">> extend(): Extends the list by appending elements from an iterable.\n",
    "\n",
    ">> insert(): Inserts an element at a specified position.\n",
    "\n",
    ">> remove(): Removes the first occurrence of a value.\n",
    "\n",
    ">> pop(): Removes and returns an element at a specific index (default is the last element).\n",
    "\n",
    ">> sort(): Sorts the list in ascending or descending order.\n",
    "\n",
    ">> reverse(): Reverses the elements of the list."
   ]
  },
  {
   "cell_type": "code",
   "execution_count": 20,
   "id": "efcb987e-2a55-4984-b6d3-4a9f3b0bfc22",
   "metadata": {},
   "outputs": [
    {
     "name": "stdout",
     "output_type": "stream",
     "text": [
      "After append: [3, 1, 4, 1, 5, 9, 2]\n",
      "After extend: [3, 1, 4, 1, 5, 9, 2, 6, 7, 8]\n",
      "After insert: [3, 1, 4, 10, 1, 5, 9, 2, 6, 7, 8]\n",
      "After remove: [3, 4, 10, 1, 5, 9, 2, 6, 7, 8]\n",
      "After pop: [3, 4, 10, 1, 5, 9, 2, 6, 7]\n",
      "Popped element: 8\n",
      "After sort: [1, 2, 3, 4, 5, 6, 7, 9, 10]\n",
      "After reverse: [10, 9, 7, 6, 5, 4, 3, 2, 1]\n"
     ]
    }
   ],
   "source": [
    "# Examples for common methods.\n",
    "\n",
    "# Initial list\n",
    "my_list = [3, 1, 4, 1, 5, 9]\n",
    "\n",
    "# 1. append() - Add a single element to the end of the list\n",
    "\n",
    "my_list.append(2)\n",
    "print(\"After append:\", my_list)  # Output: [3, 1, 4, 1, 5, 9, 2]\n",
    "\n",
    "\n",
    "# 2. extend() - Add multiple elements (iterable) to the end of the list\n",
    "\n",
    "my_list.extend([6, 7, 8])\n",
    "print(\"After extend:\", my_list)  # Output: [3, 1, 4, 1, 5, 9, 2, 6, 7, 8]\n",
    "\n",
    "\n",
    "# 3. insert() - Insert an element at a specific position\n",
    "\n",
    "my_list.insert(3, 10)            # Insert 10 at index 3\n",
    "print(\"After insert:\", my_list)  # Output: [3, 1, 4, 10, 1, 5, 9, 2, 6, 7, 8]\n",
    "\n",
    "\n",
    "# 4. remove() - Remove the first occurrence of an element\n",
    "\n",
    "my_list.remove(1)                # Remove the first '1'\n",
    "print(\"After remove:\", my_list)  # Output: [3, 4, 10, 1, 5, 9, 2, 6, 7, 8]\n",
    "\n",
    "\n",
    "# 5. pop() - Remove and return the element at a specific index (default: last)\n",
    "\n",
    "popped_element = my_list.pop()   # Removes the last element (8)\n",
    "print(\"After pop:\", my_list)     # Output: [3, 4, 10, 1, 5, 9, 2, 6, 7]\n",
    "print(\"Popped element:\", popped_element)  # Output: 8\n",
    "\n",
    "\n",
    "# 6. sort() - Sort the list in ascending order\n",
    "\n",
    "my_list.sort()\n",
    "print(\"After sort:\", my_list)    # Output: [1, 2, 3, 4, 5, 6, 7, 9, 10]\n",
    "\n",
    "\n",
    "# 7. reverse() - Reverse the elements of the list\n",
    "\n",
    "my_list.reverse()\n",
    "print(\"After reverse:\", my_list)  # Output: [10, 9, 7, 6, 5, 4, 3, 2, 1]"
   ]
  },
  {
   "cell_type": "markdown",
   "id": "3f638234-57fd-4d63-8acc-731fdc26eb14",
   "metadata": {},
   "source": [
    "#### 7. Nested Lists"
   ]
  },
  {
   "cell_type": "raw",
   "id": "450f02dc-81c1-43d7-b65e-decd7ceb0753",
   "metadata": {},
   "source": [
    ">> Lists can contain other lists, allowing you to create multi-dimensional structures like matrices."
   ]
  },
  {
   "cell_type": "code",
   "execution_count": 22,
   "id": "b4ab8c05-19dd-48ae-99db-7ed5db61f39e",
   "metadata": {},
   "outputs": [
    {
     "name": "stdout",
     "output_type": "stream",
     "text": [
      "6\n"
     ]
    }
   ],
   "source": [
    "# Example for Nested lists.\n",
    "\n",
    "matrix = [[1, 2, 3], [4, 5, 6], [7, 8, 9]]\n",
    "print(matrix[1][2])  # Output: 6"
   ]
  },
  {
   "cell_type": "markdown",
   "id": "ac7b7a39-f269-4936-b0cc-4500938b9ff3",
   "metadata": {},
   "source": [
    "#### 8. List Comprehension"
   ]
  },
  {
   "cell_type": "raw",
   "id": "ce85ea9d-34c2-4e72-ab97-cdecd8786b23",
   "metadata": {},
   "source": [
    ">> List comprehensions provide a concise way to create lists. \n",
    "\n",
    ">> They are often used to apply operations to all elements of an iterable and return a new list."
   ]
  },
  {
   "cell_type": "code",
   "execution_count": 24,
   "id": "1bcb44d3-ccab-4189-894b-f5bc22ca9e3b",
   "metadata": {},
   "outputs": [
    {
     "name": "stdout",
     "output_type": "stream",
     "text": [
      "[0, 1, 4, 9, 16]\n"
     ]
    }
   ],
   "source": [
    "# Example for List comprehension.\n",
    "\n",
    "squares = [x**2 for x in range(5)]\n",
    "print(squares)  # Output: [0, 1, 4, 9, 16]"
   ]
  },
  {
   "cell_type": "markdown",
   "id": "99e43e6e-2da6-4cc5-8c9e-a9b764973588",
   "metadata": {},
   "source": [
    "#### 9. Membership Testing"
   ]
  },
  {
   "cell_type": "raw",
   "id": "9ac53773-ffc8-488d-a632-efa53e587f2d",
   "metadata": {},
   "source": [
    ">> You can check whether an element exists in a list using the in operator."
   ]
  },
  {
   "cell_type": "code",
   "execution_count": 27,
   "id": "b2491c00-82b0-481f-803e-4e2a75f9c240",
   "metadata": {},
   "outputs": [
    {
     "name": "stdout",
     "output_type": "stream",
     "text": [
      "True\n"
     ]
    }
   ],
   "source": [
    "# Example for Membership Testing.\n",
    "\n",
    "my_list = [1, 2, 3]\n",
    "print(2 in my_list)  # Output: True"
   ]
  },
  {
   "cell_type": "markdown",
   "id": "5237a6a3-6f53-46b3-9e28-3eaaccf57457",
   "metadata": {},
   "source": [
    "#### 10. Iteration"
   ]
  },
  {
   "cell_type": "raw",
   "id": "7d08af99-a17f-4963-b2a2-dcfa40325ce4",
   "metadata": {},
   "source": [
    ">> Lists support iteration, which allows you to loop through each element."
   ]
  },
  {
   "cell_type": "code",
   "execution_count": 32,
   "id": "b2398150-36fb-48ec-9ba6-ff5bcfb0ce5f",
   "metadata": {},
   "outputs": [
    {
     "name": "stdout",
     "output_type": "stream",
     "text": [
      "1\n",
      "2\n",
      "3\n"
     ]
    }
   ],
   "source": [
    "# Example for Iteration.\n",
    "\n",
    "my_list = [1, 2, 3]\n",
    "for item in my_list:\n",
    "    print(item)\n",
    "# Output: \n",
    "#1\n",
    "#2\n",
    "#3"
   ]
  },
  {
   "cell_type": "markdown",
   "id": "ca7b340d-8386-4af6-968a-21d290340e18",
   "metadata": {
    "tags": []
   },
   "source": [
    "# Question 3"
   ]
  },
  {
   "cell_type": "markdown",
   "id": "24e9ba5b-1e12-440b-88c8-4ddc384827df",
   "metadata": {},
   "source": [
    "## Describe how to access,modify, and delete elements in a list with examples."
   ]
  },
  {
   "cell_type": "raw",
   "id": "3f8e44b1-daa6-4d95-9627-ea80a4769035",
   "metadata": {},
   "source": [
    ">> In Python, lists are mutable, meaning you can access, modify, and delete elements in a list."
   ]
  },
  {
   "cell_type": "markdown",
   "id": "7fbbc8a7-034b-4ea5-b1e7-5f555c680a17",
   "metadata": {},
   "source": [
    "### 1. Accessing Elements"
   ]
  },
  {
   "cell_type": "raw",
   "id": "914ff73b-76d1-4341-bbae-da88cd798692",
   "metadata": {},
   "source": [
    ">> You can access list elements using their index. \n",
    "\n",
    ">> Indexing starts from 0 for the first element, 1 for the second, and so on. \n",
    "\n",
    ">> Negative indexing allows access from the end of the list."
   ]
  },
  {
   "cell_type": "code",
   "execution_count": 40,
   "id": "5c90723c-373f-41d3-9c0f-bc9897425965",
   "metadata": {},
   "outputs": [
    {
     "name": "stdout",
     "output_type": "stream",
     "text": [
      "apple\n",
      "banana\n",
      "dates\n",
      "['banana', 'cherry']\n"
     ]
    }
   ],
   "source": [
    "# Example 1 for Accessing Elements in list.\n",
    "\n",
    "my_list = ['apple', 'banana', 'cherry', 'dates']\n",
    "\n",
    "# Access the first element\n",
    "print(my_list[0])  # Output: 'apple'\n",
    "\n",
    "# Access the second element\n",
    "print(my_list[1])  # Output: 'banana'\n",
    "\n",
    "# Access the last element using negative indexing\n",
    "print(my_list[-1])  # Output: 'dates'\n",
    "\n",
    "# Access a range of elements (slicing)\n",
    "print(my_list[1:3])  # Output: ['banana', 'cherry']"
   ]
  },
  {
   "cell_type": "code",
   "execution_count": 41,
   "id": "db8f41c8-7787-4b34-9efd-067814737e47",
   "metadata": {},
   "outputs": [
    {
     "name": "stdout",
     "output_type": "stream",
     "text": [
      "10\n",
      "30\n",
      "50\n"
     ]
    }
   ],
   "source": [
    "# Example 2 for Accessing Elements in list.\n",
    "\n",
    "my_list = [10, 20, 30, 40, 50]\n",
    "\n",
    "# Access the first element (index 0)\n",
    "print(my_list[0])  # Output: 10\n",
    "\n",
    "# Access the third element (index 2)\n",
    "print(my_list[2])  # Output: 30\n",
    "\n",
    "# Access the last element (negative index)\n",
    "print(my_list[-1])  # Output: 50"
   ]
  },
  {
   "cell_type": "markdown",
   "id": "3d8d35c3-c2dc-44fd-aad2-4d3c6ee41b58",
   "metadata": {},
   "source": [
    "### 2. Modifying Elements in a List"
   ]
  },
  {
   "cell_type": "raw",
   "id": "0ac28f6b-4d20-4654-858a-e7a17d1bdc77",
   "metadata": {},
   "source": [
    ">> You can modify the elements of a list by assigning a new value to the element using its index."
   ]
  },
  {
   "cell_type": "code",
   "execution_count": 42,
   "id": "d90450a9-8ac1-4b43-b34b-e1f2bf14b20f",
   "metadata": {},
   "outputs": [
    {
     "name": "stdout",
     "output_type": "stream",
     "text": [
      "['apple', 'blueberry', 'cherry', 'dates']\n",
      "['apple', 'kiwi', 'mango', 'dates']\n"
     ]
    }
   ],
   "source": [
    "# Example 1 for Modifying Elements in a list.\n",
    "\n",
    "my_list = ['apple', 'banana', 'cherry', 'dates']\n",
    "\n",
    "# Modify the second element\n",
    "my_list[1] = 'blueberry'\n",
    "print(my_list)  # Output: ['apple', 'blueberry', 'cherry', 'dates']\n",
    "\n",
    "# Modify a range of elements\n",
    "my_list[1:3] = ['kiwi', 'mango']\n",
    "print(my_list)  # Output: ['apple', 'kiwi', 'mango', 'dates']"
   ]
  },
  {
   "cell_type": "code",
   "execution_count": 43,
   "id": "1adddd7d-0965-4c70-ade0-56fa0066017d",
   "metadata": {},
   "outputs": [
    {
     "name": "stdout",
     "output_type": "stream",
     "text": [
      "[10, 25, 30, 40, 50]\n",
      "[10, 25, 30, 40, 55]\n"
     ]
    }
   ],
   "source": [
    "# Example 2 for Modifying Elements in a list.\n",
    "\n",
    "my_list = [10, 20, 30, 40, 50]\n",
    "\n",
    "# Modify the second element (index 1)\n",
    "my_list[1] = 25\n",
    "print(my_list)  # Output: [10, 25, 30, 40, 50]\n",
    "\n",
    "# Modify the last element (index -1)\n",
    "my_list[-1] = 55\n",
    "print(my_list)  # Output: [10, 25, 30, 40, 55]"
   ]
  },
  {
   "cell_type": "markdown",
   "id": "ae119469-3e91-4916-9f61-c6057c8edd5a",
   "metadata": {},
   "source": [
    "### 3. Deleting Elements in a List"
   ]
  },
  {
   "cell_type": "raw",
   "id": "3d1d1b64-893d-4e32-9fe7-66c560e611d4",
   "metadata": {},
   "source": [
    ">> You can delete elements from a list using the del statement, remove() method, or pop() method."
   ]
  },
  {
   "cell_type": "markdown",
   "id": "1074e97c-1dfa-4e0a-aacc-b9aa543bd554",
   "metadata": {},
   "source": [
    "#### a. Using del statement (removes by index):"
   ]
  },
  {
   "cell_type": "code",
   "execution_count": 50,
   "id": "4b6cf041-3c71-407d-a22c-7382594f6ab8",
   "metadata": {},
   "outputs": [
    {
     "name": "stdout",
     "output_type": "stream",
     "text": [
      "['apple', 'banana', 'dates']\n"
     ]
    }
   ],
   "source": [
    "# Example 1 of del statement.\n",
    "\n",
    "my_list = ['apple', 'banana', 'cherry', 'dates']\n",
    "\n",
    "# Delete the third element\n",
    "del my_list[2]\n",
    "print(my_list)  # Output: ['apple', 'banana', 'dates']"
   ]
  },
  {
   "cell_type": "code",
   "execution_count": 47,
   "id": "eda379e2-e099-44b4-942a-49ee0797169e",
   "metadata": {},
   "outputs": [
    {
     "name": "stdout",
     "output_type": "stream",
     "text": [
      "[10, 30, 40, 50]\n"
     ]
    }
   ],
   "source": [
    "# Example 2 of del statement.\n",
    "\n",
    "my_list = [10, 20, 30, 40, 50]\n",
    "\n",
    "# Delete the second element (index 1)\n",
    "del my_list[1]\n",
    "print(my_list)  # Output: [10, 30, 40, 50]"
   ]
  },
  {
   "cell_type": "markdown",
   "id": "d28cb01d-90e6-4a0a-a0ec-6fe37a32d509",
   "metadata": {},
   "source": [
    "#### b. Using pop() (removes and returns the element at the given index):"
   ]
  },
  {
   "cell_type": "code",
   "execution_count": 62,
   "id": "1745cc84-5597-465e-97c4-91f0bc9b652b",
   "metadata": {},
   "outputs": [
    {
     "name": "stdout",
     "output_type": "stream",
     "text": [
      "dates\n",
      "['apple', 'banana', 'cherry']\n",
      "apple\n",
      "['banana', 'cherry']\n"
     ]
    }
   ],
   "source": [
    "# Example 1 of pop statement.\n",
    "\n",
    "my_list = ['apple', 'banana', 'cherry', 'dates']\n",
    "\n",
    "\n",
    "# Remove and return the last element\n",
    "removed_element = my_list.pop()\n",
    "print(removed_element)  # Output: 'dates'\n",
    "print(my_list)  # Output: ['apple', 'banana', 'cherry']\n",
    "\n",
    "\n",
    "# Remove and return the first element\n",
    "removed_element = my_list.pop(0)\n",
    "print(removed_element)  # Output: 'apple'\n",
    "print(my_list)  # Output: ['banana', 'cherry']"
   ]
  },
  {
   "cell_type": "code",
   "execution_count": 55,
   "id": "95def1af-67ae-455f-85fb-6be7abab4bef",
   "metadata": {},
   "outputs": [
    {
     "name": "stdout",
     "output_type": "stream",
     "text": [
      "50\n",
      "[10, 20, 30, 40]\n",
      "20\n",
      "[10, 30, 40]\n"
     ]
    }
   ],
   "source": [
    "# Example 2 of pop statement.\n",
    "\n",
    "my_list = [10, 20, 30, 40, 50]\n",
    "\n",
    "\n",
    "# Pop the last element (index -1)\n",
    "last_element = my_list.pop()\n",
    "print(last_element)  # Output: 50\n",
    "print(my_list)  # Output: [10, 20, 30, 40]\n",
    "\n",
    "\n",
    "# Pop the second element (index 1)\n",
    "second_element = my_list.pop(1)\n",
    "print(second_element)  # Output: 20\n",
    "print(my_list)  # Output: [10, 30, 40]"
   ]
  },
  {
   "cell_type": "markdown",
   "id": "d42b5f9b-e96d-4eee-90e3-faf9189a66c0",
   "metadata": {},
   "source": [
    "#### c. Using remove() (removes the first occurrence of a value):"
   ]
  },
  {
   "cell_type": "code",
   "execution_count": 59,
   "id": "506eddb2-0041-409c-84f2-7eca39b4431b",
   "metadata": {},
   "outputs": [
    {
     "name": "stdout",
     "output_type": "stream",
     "text": [
      "['apple', 'cherry', 'dates']\n"
     ]
    }
   ],
   "source": [
    "# Example 1 of remove statement.\n",
    "\n",
    "my_list = ['apple', 'banana', 'cherry', 'dates']\n",
    "\n",
    "my_list.remove('banana')\n",
    "print(my_list)  # Output: ['apple', 'cherry', 'dates']"
   ]
  },
  {
   "cell_type": "code",
   "execution_count": 61,
   "id": "d8253d0f-e1f7-4bc0-8042-55ed41c2bfd3",
   "metadata": {},
   "outputs": [
    {
     "name": "stdout",
     "output_type": "stream",
     "text": [
      "[10, 20, 40, 50]\n"
     ]
    }
   ],
   "source": [
    "# Example 2 of remove statement.\n",
    "\n",
    "my_list = [10, 20, 30, 40, 50]\n",
    "\n",
    "# Remove the element with value 30\n",
    "my_list.remove(30)\n",
    "print(my_list)  # Output: [10, 20, 40, 50]"
   ]
  },
  {
   "cell_type": "markdown",
   "id": "a8bda2f0-7532-4468-881b-7866d279a5aa",
   "metadata": {},
   "source": [
    "#### d. Using clear() (removes all elements from the list):"
   ]
  },
  {
   "cell_type": "code",
   "execution_count": 67,
   "id": "a56bde3d-9e81-4ec6-ac63-83e43266a517",
   "metadata": {},
   "outputs": [
    {
     "name": "stdout",
     "output_type": "stream",
     "text": [
      "[]\n"
     ]
    }
   ],
   "source": [
    "# Example of clear statement.\n",
    "\n",
    "my_list = ['apple', 'banana', 'cherry', 'dates']\n",
    "\n",
    "\n",
    "# Clear the entire list\n",
    "my_list.clear()\n",
    "print(my_list)  # Output: []\n"
   ]
  },
  {
   "cell_type": "markdown",
   "id": "75ca90ce-6405-4fff-8891-c733ec5e6cbc",
   "metadata": {},
   "source": [
    "### Summary"
   ]
  },
  {
   "cell_type": "raw",
   "id": "29b7dc1b-37cd-4089-a1e6-cb88ae04415c",
   "metadata": {},
   "source": [
    "1. Access: my_list[index]\n",
    "\n",
    "2. Modify: my_list[index] = new_value\n",
    "\n",
    "3. Delete:\n",
    "\n",
    "a. del my_list[index] (by index)\n",
    "\n",
    "b. my_list.remove(value) (by value)\n",
    "\n",
    "c. my_list.pop(index) (removes and returns by index, default is last)\n",
    "\n",
    "d. my_list.clear() (clears complete list data)"
   ]
  },
  {
   "cell_type": "markdown",
   "id": "5e519f12-b884-41d6-8d68-30059c4b74dc",
   "metadata": {},
   "source": [
    "# Question 4"
   ]
  },
  {
   "cell_type": "markdown",
   "id": "db6b3502-9d79-47dd-9399-7b286cda316e",
   "metadata": {},
   "source": [
    "## Compare and contrast tuples and lists with examples."
   ]
  },
  {
   "cell_type": "raw",
   "id": "28572f74-ff88-4b2b-80ad-efcd4fa6aa45",
   "metadata": {},
   "source": [
    ">> Tuples and lists are two commonly used data structures in Python that both allow you to store collections of items.However, they have important differences that influence how and when to use them."
   ]
  },
  {
   "cell_type": "markdown",
   "id": "73788096-a13c-4b34-baab-068e327c27d5",
   "metadata": {},
   "source": [
    "### Comparison"
   ]
  },
  {
   "cell_type": "markdown",
   "id": "c69c6c14-1169-467c-bebc-57454fd9d70e",
   "metadata": {},
   "source": [
    "#### 1. Mutability"
   ]
  },
  {
   "cell_type": "raw",
   "id": "36dba36d-ff51-40ec-b094-b36a13ffbc5c",
   "metadata": {},
   "source": [
    ">> Lists are mutable,which means that their contents can be modified after the list is created (e.g., adding, removing, or changing elements)."
   ]
  },
  {
   "cell_type": "code",
   "execution_count": 1,
   "id": "f10675d2-a115-46e8-b53d-5c8e5ca838f0",
   "metadata": {},
   "outputs": [
    {
     "name": "stdout",
     "output_type": "stream",
     "text": [
      "[10, 2, 3]\n"
     ]
    }
   ],
   "source": [
    "# List example (mutable)\n",
    "\n",
    "my_list = [1, 2, 3]\n",
    "my_list[0] = 10    # Modifying the first element\n",
    "print(my_list)     # Output: [10, 2, 3]"
   ]
  },
  {
   "cell_type": "raw",
   "id": "d6e3a2ce-4be5-4427-a96d-eb7a871e34da",
   "metadata": {},
   "source": [
    ">> Tuples are immutable,which means that once a tuple is created, its contents cannot be changed."
   ]
  },
  {
   "cell_type": "code",
   "execution_count": 2,
   "id": "27ade1ce-4815-42ee-a88d-7eb458fbce3b",
   "metadata": {},
   "outputs": [],
   "source": [
    "# Tuple example (immutable)\n",
    "\n",
    "my_tuple = (1, 2, 3)\n",
    "# my_tuple[0] = 10  # This would raise a TypeError because tuples cannot be changed"
   ]
  },
  {
   "cell_type": "markdown",
   "id": "2bb7ef30-7701-42fe-8da6-719feb85c825",
   "metadata": {},
   "source": [
    "#### 2. Syntax"
   ]
  },
  {
   "cell_type": "raw",
   "id": "03e65ce1-8abc-4489-8c7f-da246903d4df",
   "metadata": {},
   "source": [
    ">> Lists use square brackets [] for their definition."
   ]
  },
  {
   "cell_type": "code",
   "execution_count": 3,
   "id": "fb2b1c6e-cdea-48ce-abff-f1ba43d6b0b5",
   "metadata": {},
   "outputs": [],
   "source": [
    "# List syntax\n",
    "\n",
    "my_list = [1, 2, 3]"
   ]
  },
  {
   "cell_type": "raw",
   "id": "ba5097ae-f9d5-4942-b448-8bfbcc0b042c",
   "metadata": {},
   "source": [
    ">> Tuples use parentheses () for their definition."
   ]
  },
  {
   "cell_type": "code",
   "execution_count": 4,
   "id": "4685241a-6102-4e69-a501-19dde3d489fd",
   "metadata": {},
   "outputs": [],
   "source": [
    "# Tuple syntax\n",
    "my_tuple = (1, 2, 3)"
   ]
  },
  {
   "cell_type": "markdown",
   "id": "2c59027b-8d8d-4c32-9277-17e12861f07e",
   "metadata": {},
   "source": [
    "#### 3. Performance"
   ]
  },
  {
   "cell_type": "raw",
   "id": "c4b8c791-a5d1-450e-b286-2f3ca695d0d5",
   "metadata": {},
   "source": [
    ">> Lists are more flexible, but this comes at the cost of performance, especially for large collections of data."
   ]
  },
  {
   "cell_type": "code",
   "execution_count": 1,
   "id": "9ff5674b-159c-41ea-908d-d95be8c4e6f5",
   "metadata": {},
   "outputs": [
    {
     "name": "stdout",
     "output_type": "stream",
     "text": [
      "List creation time: 0.06235044699860737\n"
     ]
    }
   ],
   "source": [
    "# Example of list's performance.\n",
    "\n",
    "import timeit\n",
    "\n",
    "# Time for creating a list\n",
    "list_time = timeit.timeit(stmt=\"[1, 2, 3, 4, 5]\", number=1000000)\n",
    "\n",
    "print(f\"List creation time: {list_time}\")"
   ]
  },
  {
   "cell_type": "raw",
   "id": "fd171ac3-3cbb-4318-859a-b2bba9c56f82",
   "metadata": {},
   "source": [
    ">> Tuples are generally more memory efficient and faster to process than lists because of their immutability."
   ]
  },
  {
   "cell_type": "code",
   "execution_count": 2,
   "id": "cf227b51-a985-43ab-85c8-10067e162388",
   "metadata": {},
   "outputs": [
    {
     "name": "stdout",
     "output_type": "stream",
     "text": [
      "Tuple creation time: 0.011401894968003035\n"
     ]
    }
   ],
   "source": [
    "# Example of tuple's performance.\n",
    "\n",
    "import timeit\n",
    "\n",
    "# Time for creating a tuple\n",
    "tuple_time = timeit.timeit(stmt=\"(1, 2, 3, 4, 5)\", number=1000000)\n",
    "\n",
    "print(f\"Tuple creation time: {tuple_time}\")"
   ]
  },
  {
   "cell_type": "markdown",
   "id": "8afc49b2-7628-41f6-8a75-52b09b66e06e",
   "metadata": {},
   "source": [
    "#### 4. Use Cases"
   ]
  },
  {
   "cell_type": "raw",
   "id": "40319ca6-86b5-46fd-a919-a8a8a17ee22e",
   "metadata": {},
   "source": [
    ">> Lists are preferred when you need a dynamic, flexible collection of elements that can change over time (e.g., a list of items in a shopping cart)."
   ]
  },
  {
   "cell_type": "code",
   "execution_count": 3,
   "id": "cebd0e6a-a53d-46f5-af3d-4fe0ab13528d",
   "metadata": {},
   "outputs": [
    {
     "name": "stdout",
     "output_type": "stream",
     "text": [
      "['apple', 'banana', 'orange', 'grape']\n"
     ]
    }
   ],
   "source": [
    "# Example of list's use case.\n",
    "\n",
    "# List for shopping cart (can change)\n",
    "shopping_cart = ['apple', 'banana', 'orange']\n",
    "shopping_cart.append('grape')\n",
    "print(shopping_cart)  # Output: ['apple', 'banana', 'orange', 'grape']"
   ]
  },
  {
   "cell_type": "raw",
   "id": "673880bf-2d38-4a10-8fa1-5e73ebfb3ed7",
   "metadata": {},
   "source": [
    ">> Tuples are preferred when you want a fixed collection of items that should not change (e.g., coordinates of a point (x, y) or days of the week)."
   ]
  },
  {
   "cell_type": "code",
   "execution_count": 6,
   "id": "21cd578e-3ec0-4879-82a3-29036c223067",
   "metadata": {},
   "outputs": [],
   "source": [
    "# Example of tuple's performance.\n",
    "\n",
    "# Tuple for coordinates (fixed values)\n",
    "coordinates = (10, 20)"
   ]
  },
  {
   "cell_type": "markdown",
   "id": "7990d40b-9d91-4f6a-91fb-326ec41fa704",
   "metadata": {},
   "source": [
    "#### 5. Functions and Methods"
   ]
  },
  {
   "cell_type": "raw",
   "id": "f073f5a8-2108-4db7-a063-2b75109741b1",
   "metadata": {},
   "source": [
    ">> Lists have more built-in methods (e.g., append(), remove(), sort()), since they are mutable."
   ]
  },
  {
   "cell_type": "code",
   "execution_count": 7,
   "id": "83b85c09-12ea-4c66-8825-1b1a28784238",
   "metadata": {},
   "outputs": [
    {
     "name": "stdout",
     "output_type": "stream",
     "text": [
      "[1, 3, 4]\n"
     ]
    }
   ],
   "source": [
    "# List methods example\n",
    "\n",
    "my_list = [1, 2, 3]\n",
    "my_list.append(4)  # Add 4 to the end of the list\n",
    "my_list.remove(2)  # Remove the value 2\n",
    "print(my_list)     # Output: [1, 3, 4]"
   ]
  },
  {
   "cell_type": "raw",
   "id": "1c713969-1e10-4adf-bc13-308d5eed4a45",
   "metadata": {},
   "source": [
    ">> Tuples have fewer methods, mostly those for basic operations (e.g., count(), index())"
   ]
  },
  {
   "cell_type": "code",
   "execution_count": 8,
   "id": "203200a0-472a-4a65-b7bc-52c78d671574",
   "metadata": {},
   "outputs": [
    {
     "name": "stdout",
     "output_type": "stream",
     "text": [
      "2\n",
      "2\n"
     ]
    }
   ],
   "source": [
    "# Tuple methods example\n",
    "\n",
    "my_tuple = (1, 2, 3, 2)\n",
    "print(my_tuple.count(2))  # Output: 2 (how many times 2 appears)\n",
    "print(my_tuple.index(3))  # Output: 2 (index of the first occurrence of 3)"
   ]
  },
  {
   "cell_type": "markdown",
   "id": "8e1b4a02-dc69-4f20-bada-6c9e231038b7",
   "metadata": {},
   "source": [
    "#### 6. Iteration and Membership Tests"
   ]
  },
  {
   "cell_type": "raw",
   "id": "a76d45b6-b7f8-4fe5-98a6-b359e3cae313",
   "metadata": {},
   "source": [
    ">> Both lists and tuples can be iterated over and support membership tests (in keyword)."
   ]
  },
  {
   "cell_type": "code",
   "execution_count": 10,
   "id": "99ac3b0a-3acc-4ab5-8b84-db80b4f12f9d",
   "metadata": {},
   "outputs": [
    {
     "name": "stdout",
     "output_type": "stream",
     "text": [
      "1\n",
      "2\n",
      "3\n",
      "1\n",
      "2\n",
      "3\n",
      "True\n",
      "False\n"
     ]
    }
   ],
   "source": [
    "# Example of Iteration and Membership tests.\n",
    "\n",
    "my_list = [1, 2, 3]\n",
    "my_tuple = (1, 2, 3)\n",
    "\n",
    "# Iteration\n",
    "for item in my_list:\n",
    "    print(item)  # Output: 1, 2, 3 (one per line)\n",
    "\n",
    "for item in my_tuple:\n",
    "    print(item)  # Output: 1, 2, 3 (one per line)\n",
    "\n",
    "# Membership Test\n",
    "print(2 in my_list)  # Output: True\n",
    "print(4 in my_tuple) # Output: False"
   ]
  },
  {
   "cell_type": "raw",
   "id": "0b624b81-36f1-46fc-99e3-1eb924755674",
   "metadata": {},
   "source": [
    ">> In general, use lists when you need flexibility and tuples when you want to ensure data integrity and immutability."
   ]
  },
  {
   "cell_type": "markdown",
   "id": "57b0787d-8e72-439a-a17f-f0d5fb2e1be4",
   "metadata": {},
   "source": [
    "# Question 5"
   ]
  },
  {
   "cell_type": "markdown",
   "id": "c895d85b-bfe6-40bb-85a5-15481745eaee",
   "metadata": {},
   "source": [
    "## Describe the key features of sets and provide examples of their use."
   ]
  },
  {
   "cell_type": "markdown",
   "id": "bf7eb5c9-31fc-4017-9fc2-d067e4fd8722",
   "metadata": {},
   "source": [
    "### 1. Key Features of Sets in Python"
   ]
  },
  {
   "cell_type": "markdown",
   "id": "c56b0eb0-b164-4141-86f4-0b664eb9d79e",
   "metadata": {},
   "source": [
    "#### 1.1 Unordered Collection:"
   ]
  },
  {
   "cell_type": "raw",
   "id": "f11f6763-e6e5-4bf5-a7b9-3c3d4ed84a6e",
   "metadata": {},
   "source": [
    ">> Sets do not maintain any specific order of elements. When you iterate over a set, the elements may not appear in the order they were added."
   ]
  },
  {
   "cell_type": "code",
   "execution_count": 1,
   "id": "7ae17a89-6c9a-48eb-abd7-be827a60da15",
   "metadata": {},
   "outputs": [
    {
     "name": "stdout",
     "output_type": "stream",
     "text": [
      "{1, 2, 3, 4, 5}\n"
     ]
    }
   ],
   "source": [
    "# Example of Unordered collection\n",
    "\n",
    "my_set = {1, 3, 5, 2, 4}\n",
    "print(my_set)  # Output order may vary"
   ]
  },
  {
   "cell_type": "markdown",
   "id": "a356aea3-6a3e-4ce4-80a9-0ecacc529168",
   "metadata": {},
   "source": [
    "#### 1.2 Unique Elements:"
   ]
  },
  {
   "cell_type": "raw",
   "id": "1c392ce4-d1f3-4269-8fe4-efae52720274",
   "metadata": {},
   "source": [
    ">> Sets automatically remove any duplicate items. Every element in a set must be unique."
   ]
  },
  {
   "cell_type": "code",
   "execution_count": 2,
   "id": "43723ca1-96f1-4b4d-898a-4ba106db03f0",
   "metadata": {},
   "outputs": [
    {
     "name": "stdout",
     "output_type": "stream",
     "text": [
      "{1, 2, 3}\n"
     ]
    }
   ],
   "source": [
    "# Example of Unique elements\n",
    "\n",
    "my_set = {1, 2, 2, 3}\n",
    "print(my_set)  # Output: {1, 2, 3}"
   ]
  },
  {
   "cell_type": "markdown",
   "id": "2127014d-c808-4a26-9571-99060425d040",
   "metadata": {},
   "source": [
    "#### 1.3 Mutable:"
   ]
  },
  {
   "cell_type": "raw",
   "id": "43249023-d743-4a8b-9231-cae1c0b4c0b9",
   "metadata": {},
   "source": [
    ">> You can add or remove elements from a set using methods like add(), remove(), or discard(), but the set itself must contain only immutable types (like numbers, strings, or tuples)."
   ]
  },
  {
   "cell_type": "code",
   "execution_count": 3,
   "id": "a69c0789-d030-44ab-9811-40f961c9e604",
   "metadata": {},
   "outputs": [
    {
     "name": "stdout",
     "output_type": "stream",
     "text": [
      "{1, 3, 4}\n"
     ]
    }
   ],
   "source": [
    "# Example for Mutable\n",
    "\n",
    "my_set = {1, 2, 3}\n",
    "my_set.add(4)\n",
    "my_set.remove(2)\n",
    "print(my_set)  # Output: {1, 3, 4}"
   ]
  },
  {
   "cell_type": "markdown",
   "id": "57465ce0-05d3-4ec7-acb7-17acb047f327",
   "metadata": {},
   "source": [
    "#### 1.4 No Indexing or Slicing:\n",
    "\n"
   ]
  },
  {
   "cell_type": "raw",
   "id": "9858fae4-f79f-47e0-bae5-3c60718d8434",
   "metadata": {},
   "source": [
    ">> Since sets are unordered, they do not support indexing or slicing like lists and tuples."
   ]
  },
  {
   "cell_type": "code",
   "execution_count": 4,
   "id": "dfadf64c-db16-4c72-bc15-882ca1659128",
   "metadata": {},
   "outputs": [],
   "source": [
    "# Example for No Indexing or Slicing\n",
    "\n",
    "my_set = {1, 2, 3}\n",
    "# my_set[0]  # This would raise a TypeError"
   ]
  },
  {
   "cell_type": "markdown",
   "id": "5d25ff46-80b0-455c-833d-9b5bb7430cdd",
   "metadata": {},
   "source": [
    "#### 1.5 Efficient Membership Testing:"
   ]
  },
  {
   "cell_type": "raw",
   "id": "2fc4928a-bf8d-46a0-b653-a1debfa664aa",
   "metadata": {},
   "source": [
    ">> Sets are optimized for checking whether an item is part of the set, making membership tests (in operator) very efficient."
   ]
  },
  {
   "cell_type": "code",
   "execution_count": 5,
   "id": "385778ab-8f27-4814-855b-7ead9acacbfa",
   "metadata": {},
   "outputs": [
    {
     "name": "stdout",
     "output_type": "stream",
     "text": [
      "True\n",
      "False\n"
     ]
    }
   ],
   "source": [
    "# Example of Membership testing\n",
    "\n",
    "my_set = {1, 2, 3}\n",
    "print(2 in my_set)   # Output: True\n",
    "print(5 in my_set)   # Output: False"
   ]
  },
  {
   "cell_type": "markdown",
   "id": "6bb0ac2a-2239-4d78-9569-feab876f5678",
   "metadata": {},
   "source": [
    "### 2. Basic Set Operations in Python"
   ]
  },
  {
   "cell_type": "markdown",
   "id": "0f014aed-b189-4b97-af8b-8024bf30bd77",
   "metadata": {},
   "source": [
    "#### 2.1 Union (|):"
   ]
  },
  {
   "cell_type": "raw",
   "id": "655ae82f-c5b5-4355-bc5b-7e2471a4b10b",
   "metadata": {},
   "source": [
    ">> Combines all elements from two sets."
   ]
  },
  {
   "cell_type": "code",
   "execution_count": 10,
   "id": "239dcaf8-0f6c-4403-8da4-fc2260d8b08a",
   "metadata": {},
   "outputs": [
    {
     "name": "stdout",
     "output_type": "stream",
     "text": [
      "{1, 2, 3, 4, 5}\n"
     ]
    }
   ],
   "source": [
    "# Example for Union(|)\n",
    "\n",
    "set1 = {1, 2, 3}\n",
    "set2 = {3, 4, 5}\n",
    "print(set1 | set2)  # Output: {1, 2, 3, 4, 5}"
   ]
  },
  {
   "cell_type": "markdown",
   "id": "5998779c-2653-45ea-a801-d00d9dd3691d",
   "metadata": {},
   "source": [
    "#### 2.2 Intersection (&)\n",
    "\n"
   ]
  },
  {
   "cell_type": "raw",
   "id": "6b79861c-9ba4-470a-876c-0d69c60559b2",
   "metadata": {},
   "source": [
    ">> Retrieves elements common to both sets."
   ]
  },
  {
   "cell_type": "code",
   "execution_count": 11,
   "id": "2420b62c-edf9-465c-b5ad-33219d05ef93",
   "metadata": {},
   "outputs": [
    {
     "name": "stdout",
     "output_type": "stream",
     "text": [
      "{2, 3}\n"
     ]
    }
   ],
   "source": [
    "# Example for Intersection (&)\n",
    "\n",
    "set1 = {1, 2, 3}\n",
    "set2 = {2, 3, 4}\n",
    "print(set1 & set2)  # Output: {2, 3}"
   ]
  },
  {
   "cell_type": "markdown",
   "id": "8ca06a53-d0e7-4273-91c5-e285ae1e6c50",
   "metadata": {},
   "source": [
    "#### 2.3 Difference (-):"
   ]
  },
  {
   "cell_type": "raw",
   "id": "7201103e-13c2-483e-b5ce-c83164f1a534",
   "metadata": {},
   "source": [
    ">> Retrieves elements that are in the first set but not in the second."
   ]
  },
  {
   "cell_type": "code",
   "execution_count": 12,
   "id": "6468917e-c330-4796-a41f-bc4e86a6b704",
   "metadata": {},
   "outputs": [
    {
     "name": "stdout",
     "output_type": "stream",
     "text": [
      "{1}\n"
     ]
    }
   ],
   "source": [
    "# Example for Difference (-):\n",
    "\n",
    "set1 = {1, 2, 3}\n",
    "set2 = {2, 3, 4}\n",
    "print(set1 - set2)  # Output: {1}"
   ]
  },
  {
   "cell_type": "markdown",
   "id": "4dda0dd9-3235-4178-a6ad-e7f000a7cbeb",
   "metadata": {},
   "source": [
    "#### 2.4 Symmetric Difference (^):"
   ]
  },
  {
   "cell_type": "raw",
   "id": "724e118b-5b4f-4112-a3eb-045b04274ecb",
   "metadata": {},
   "source": [
    ">> Retrieves elements that are in either of the sets, but not in both."
   ]
  },
  {
   "cell_type": "code",
   "execution_count": 15,
   "id": "d59d93cd-ef31-449e-b4d7-dd93d86fcad1",
   "metadata": {},
   "outputs": [
    {
     "name": "stdout",
     "output_type": "stream",
     "text": [
      "{1, 4}\n"
     ]
    }
   ],
   "source": [
    "# Example for Symmetric difference (^)\n",
    "\n",
    "set1 = {1, 2, 3}\n",
    "set2 = {2, 3, 4}\n",
    "print(set1 ^ set2)  # Output: {1, 4}"
   ]
  },
  {
   "cell_type": "markdown",
   "id": "19bff795-c674-49c0-abbb-2730c0970fcd",
   "metadata": {},
   "source": [
    "#### 2.5 Subset (<=) and Superset (>=):"
   ]
  },
  {
   "cell_type": "raw",
   "id": "e7372a48-9930-4802-9ff3-b9a55dfd2167",
   "metadata": {},
   "source": [
    ">> You can check if one set is a subset or superset of another."
   ]
  },
  {
   "cell_type": "code",
   "execution_count": 16,
   "id": "8189d3b8-74e3-4ece-b603-7b1779798672",
   "metadata": {},
   "outputs": [
    {
     "name": "stdout",
     "output_type": "stream",
     "text": [
      "True\n",
      "True\n"
     ]
    }
   ],
   "source": [
    "# Example of Subset (<=) and Superset (>=):\n",
    "\n",
    "set1 = {1, 2}\n",
    "set2 = {1, 2, 3}\n",
    "print(set1 <= set2)  # Output: True (set1 is a subset of set2)\n",
    "print(set2 >= set1)  # Output: True (set2 is a superset of set1)"
   ]
  },
  {
   "cell_type": "markdown",
   "id": "38e5e1cd-a2e7-42c4-b6ca-ebc5b073b932",
   "metadata": {},
   "source": [
    "### 3. Example Use Cases of Sets in Python"
   ]
  },
  {
   "cell_type": "markdown",
   "id": "8f7fcf92-d885-44ff-b5a4-a2dd9a9ea426",
   "metadata": {},
   "source": [
    "#### 3.1 Removing Duplicates"
   ]
  },
  {
   "cell_type": "code",
   "execution_count": 20,
   "id": "2549e297-ef2d-4456-8f5a-567edf19bbc7",
   "metadata": {},
   "outputs": [
    {
     "name": "stdout",
     "output_type": "stream",
     "text": [
      "{1, 2, 3, 4, 5}\n"
     ]
    }
   ],
   "source": [
    "my_list = [1, 2, 2, 3, 4, 4, 5]\n",
    "unique_set = set(my_list)\n",
    "print(unique_set)  # Output: {1, 2, 3, 4, 5}"
   ]
  },
  {
   "cell_type": "markdown",
   "id": "b685867f-d687-4cb9-8ffb-f8ab51e024ba",
   "metadata": {},
   "source": [
    "#### 3.2 Adding and Removing Elements"
   ]
  },
  {
   "cell_type": "code",
   "execution_count": 21,
   "id": "336ad4d8-3e42-452a-9b01-48884e919daf",
   "metadata": {},
   "outputs": [
    {
     "name": "stdout",
     "output_type": "stream",
     "text": [
      "{1, 3, 4}\n"
     ]
    }
   ],
   "source": [
    "my_set = {1, 2, 3}\n",
    "my_set.add(4)       # Adds an element to the set\n",
    "my_set.remove(2)    # Removes an element\n",
    "print(my_set)       # Output: {1, 3, 4}"
   ]
  },
  {
   "cell_type": "markdown",
   "id": "abedd479-9392-481e-a82c-4593928c8111",
   "metadata": {},
   "source": [
    "#### 3.3 Membership testing"
   ]
  },
  {
   "cell_type": "code",
   "execution_count": 22,
   "id": "c987ace2-c277-4dc0-a407-31e75743c248",
   "metadata": {},
   "outputs": [
    {
     "name": "stdout",
     "output_type": "stream",
     "text": [
      "True\n",
      "False\n"
     ]
    }
   ],
   "source": [
    "my_set = {1, 2, 3}\n",
    "print(2 in my_set)   # Output: True\n",
    "print(5 in my_set)   # Output: False"
   ]
  },
  {
   "cell_type": "markdown",
   "id": "a92ebfaa-d599-4985-a3c2-4b6fbb040dd5",
   "metadata": {},
   "source": [
    "### Summary:"
   ]
  },
  {
   "cell_type": "raw",
   "id": "adae821d-efd6-4427-ad73-fea46c014884",
   "metadata": {},
   "source": [
    ">> Sets are versatile and useful when you need to store unique elements, perform efficient membership tests, and carry out set-based mathematical operations. \n",
    "\n",
    ">> They are especially helpful in data cleaning, handling large collections, and solving problems that involve grouping or categorization of elements."
   ]
  },
  {
   "cell_type": "markdown",
   "id": "b1b8521d-d084-41ba-860e-4999272cc6cf",
   "metadata": {},
   "source": [
    "# Question 6"
   ]
  },
  {
   "cell_type": "markdown",
   "id": "25302374-00ce-4f0c-9d82-90cf91db7467",
   "metadata": {},
   "source": [
    "## Discuss the use cases of tuples and sets in Python programming."
   ]
  },
  {
   "cell_type": "raw",
   "id": "d77832df-bc14-47be-beb8-8a0c14f6190e",
   "metadata": {},
   "source": [
    ">> In Python, tuples and sets are distinct data structures that serve different purposes. Each has specific characteristics that make them useful in different scenarios:"
   ]
  },
  {
   "cell_type": "markdown",
   "id": "5de8565a-e514-434b-b90c-b9351c3a4614",
   "metadata": {},
   "source": [
    "### 1. Tuples:"
   ]
  },
  {
   "cell_type": "raw",
   "id": "2b373832-dfa1-4a34-a3bc-0f3e6658df1e",
   "metadata": {},
   "source": [
    ">> A tuple is an ordered, immutable collection of items. This means once a tuple is created, its elements cannot be changed, added, or removed."
   ]
  },
  {
   "cell_type": "markdown",
   "id": "b9cd0740-2e44-4019-aa3c-55831c800cec",
   "metadata": {},
   "source": [
    "#### 1.1 Key Characteristics of Tuples:"
   ]
  },
  {
   "cell_type": "raw",
   "id": "bd316d16-334d-45e9-96da-765fa7b1f58c",
   "metadata": {},
   "source": [
    ">> Ordered: Tuples maintain the order of elements.\n",
    "\n",
    ">> Immutable: Elements cannot be altered after the tuple is created.\n",
    "\n",
    ">> Allow duplicates: Tuples can contain repeated elements.\n",
    "\n",
    ">> Heterogeneous: Can store different data types (example - int, str, float)."
   ]
  },
  {
   "cell_type": "markdown",
   "id": "c399dafd-f076-4184-89a8-5e5ef426bf38",
   "metadata": {},
   "source": [
    "#### 1.2 Use Cases of Tuples:"
   ]
  },
  {
   "cell_type": "raw",
   "id": "cba97aea-c6a7-4555-a0f8-5efaf57c4bc9",
   "metadata": {},
   "source": [
    "a. Returning multiple values from functions: \n",
    "\n",
    ">> Tuples are often used to return more than one value from a function."
   ]
  },
  {
   "cell_type": "code",
   "execution_count": 43,
   "id": "2ec465f8-0a24-46c3-abf9-58651d03ef14",
   "metadata": {},
   "outputs": [],
   "source": [
    "# Example for returning multiple values\n",
    "\n",
    "def get_dimensions():\n",
    "    return (10, 20, 30)  # Return as a tuple\n",
    "width, height, depth = get_dimensions()  # Unpacking"
   ]
  },
  {
   "cell_type": "raw",
   "id": "52f60b24-0d6e-46ef-b7c1-24be96985146",
   "metadata": {},
   "source": [
    "b. Immutable collections of data: \n",
    "\n",
    ">> When you want a fixed collection of data that shouldn't be altered after creation, such as constants or configuration settings."
   ]
  },
  {
   "cell_type": "code",
   "execution_count": 44,
   "id": "dff91969-0848-4da4-be89-325c747b2fa2",
   "metadata": {},
   "outputs": [],
   "source": [
    "# Example for Fixed collectin of data\n",
    "\n",
    "days_of_week = (\"Monday\", \"Tuesday\", \"Wednesday\", \"Thursday\", \"Friday\", \"Saturday\", \"Sunday\")"
   ]
  },
  {
   "cell_type": "raw",
   "id": "26ea57db-20b6-409f-b94c-9c2094721d35",
   "metadata": {},
   "source": [
    "c. Keys in dictionaries: \n",
    "\n",
    ">> Since tuples are immutable, they can be used as keys in dictionaries, unlike lists. This is particularly useful when representing complex keys."
   ]
  },
  {
   "cell_type": "code",
   "execution_count": 45,
   "id": "906a2a55-f9a8-481a-a9e9-62b5737779d1",
   "metadata": {},
   "outputs": [],
   "source": [
    "# Example for using tuple as keys in dictionaries\n",
    "\n",
    "my_dict = {(\"John\", \"Doe\"): 28, (\"Jane\", \"Smith\"): 34}"
   ]
  },
  {
   "cell_type": "raw",
   "id": "198ee888-adea-4006-acba-3f6b4501cf77",
   "metadata": {},
   "source": [
    "d. Efficient data storage:\n",
    "\n",
    ">> Tuples generally use less memory than lists because of their immutability, making them a good choice when you need a lightweight structure."
   ]
  },
  {
   "cell_type": "raw",
   "id": "0dd0867b-2845-45cc-b850-5be37b4e6e5f",
   "metadata": {},
   "source": [
    "e. Representing fixed-size records: \n",
    "\n",
    ">> Tuples are ideal for representing simple records or rows in a table where each element has a known meaning."
   ]
  },
  {
   "cell_type": "code",
   "execution_count": 46,
   "id": "c1dec00b-452e-4a04-a548-fef0a707b3f6",
   "metadata": {},
   "outputs": [],
   "source": [
    "# Example for fixed-size records\n",
    "\n",
    "employee = (\"John\", \"Doe\", 35)"
   ]
  },
  {
   "cell_type": "markdown",
   "id": "14283c85-e072-4de1-b08d-0a6dc1426447",
   "metadata": {},
   "source": [
    "### 2. Sets:"
   ]
  },
  {
   "cell_type": "raw",
   "id": "8981f47e-7c0a-45ad-8231-8af84e8efce0",
   "metadata": {},
   "source": [
    ">> A set is an unordered, mutable collection that contains only unique elements. This means that a set cannot have duplicate elements, and its elements can be modified after creation."
   ]
  },
  {
   "cell_type": "markdown",
   "id": "e8e05f3c-1c0e-4fff-a2d1-f5ab20e35da6",
   "metadata": {},
   "source": [
    "#### 2.1 Key Characteristics of Sets:"
   ]
  },
  {
   "cell_type": "raw",
   "id": "0800d0eb-6441-405f-956f-c13b95b7b0ed",
   "metadata": {},
   "source": [
    ">> Unordered: Sets do not maintain any order of elements.\n",
    "\n",
    ">> Mutable: You can add or remove elements from a set.\n",
    "\n",
    ">> No duplicates: All elements in a set must be unique.\n",
    "\n",
    ">> Heterogeneous: Can store different data types."
   ]
  },
  {
   "cell_type": "markdown",
   "id": "07fca0da-a581-4bb7-a1a9-967a7410b585",
   "metadata": {},
   "source": [
    "#### 2.2 Use Cases of Sets:"
   ]
  },
  {
   "cell_type": "raw",
   "id": "b841744a-1850-4762-a980-e9329804ecff",
   "metadata": {},
   "source": [
    "a. Removing duplicates:\n",
    "\n",
    ">> A common use case for sets is to eliminate duplicates from a list or other collection."
   ]
  },
  {
   "cell_type": "code",
   "execution_count": 50,
   "id": "042de2f6-51d7-45a3-93c5-39ffdc7595a0",
   "metadata": {},
   "outputs": [
    {
     "data": {
      "text/plain": [
       "{1, 2, 3, 4, 5}"
      ]
     },
     "execution_count": 50,
     "metadata": {},
     "output_type": "execute_result"
    }
   ],
   "source": [
    "# Example for removing duplicates\n",
    "\n",
    "numbers = [1, 2, 2, 3, 4, 4, 5]\n",
    "unique_numbers = set(numbers)\n",
    "unique_numbers\n",
    "# unique_numbers: {1, 2, 3, 4, 5}"
   ]
  },
  {
   "cell_type": "raw",
   "id": "9ab4c0c2-0ced-4838-9fc0-7d79a83e391e",
   "metadata": {},
   "source": [
    "b. Efficient membership testing: \n",
    "\n",
    ">> Sets provide faster membership testing (e.g., in or not in) compared to lists."
   ]
  },
  {
   "cell_type": "code",
   "execution_count": 52,
   "id": "fb8b9ce4-aba6-4278-93dc-04a352b97719",
   "metadata": {},
   "outputs": [
    {
     "name": "stdout",
     "output_type": "stream",
     "text": [
      "User exists\n"
     ]
    }
   ],
   "source": [
    "# Example for Efficient membership testing\n",
    "\n",
    "users = {\"Alice\", \"Bob\", \"Charlie\"}\n",
    "if \"Alice\" in users:\n",
    "    print(\"User exists\")"
   ]
  },
  {
   "cell_type": "raw",
   "id": "544275c2-8e08-4178-a11f-8a52c128728b",
   "metadata": {},
   "source": [
    "c. Set operations: \n",
    "\n",
    ">> Sets support mathematical operations like union, intersection, difference, and symmetric difference, which are helpful for comparing collections of data."
   ]
  },
  {
   "cell_type": "code",
   "execution_count": 56,
   "id": "0770e8d6-0902-4fe2-b6e6-b33d39ff3fb0",
   "metadata": {},
   "outputs": [
    {
     "name": "stdout",
     "output_type": "stream",
     "text": [
      "{3, 4}\n",
      "{1, 2, 3, 4, 5, 6}\n"
     ]
    }
   ],
   "source": [
    "# Example for Set operations\n",
    "\n",
    "set_a = {1, 2, 3, 4}\n",
    "set_b = {3, 4, 5, 6}\n",
    "print(set_a & set_b)  # Intersection: {3, 4}\n",
    "print(set_a | set_b)  # Union: {1, 2, 3, 4, 5, 6}"
   ]
  },
  {
   "cell_type": "raw",
   "id": "e0e83fd2-7c07-4125-9c25-e22f9634fa21",
   "metadata": {},
   "source": [
    "d. Removing duplicates while maintaining efficient lookups:\n",
    "\n",
    ">> If you need to keep a collection of items unique and perform frequent lookups, sets are ideal."
   ]
  },
  {
   "cell_type": "raw",
   "id": "d4c0248f-fc3a-47ab-9209-5b0a004ab224",
   "metadata": {},
   "source": [
    "e. Handling large datasets:\n",
    "\n",
    ">> When dealing with large datasets where you need to ensure uniqueness and perform set-based operations (e.g., database filtering, tag management), sets provide an efficient structure."
   ]
  },
  {
   "cell_type": "markdown",
   "id": "ba7ebe0a-1135-4f3f-a57f-76250ca8c119",
   "metadata": {},
   "source": [
    "### Key Differences:"
   ]
  },
  {
   "cell_type": "raw",
   "id": "850d1bba-1851-456f-8518-91728b64f2cb",
   "metadata": {},
   "source": [
    ">> Mutability: Tuples are immutable, while sets are mutable.\n",
    "\n",
    ">> Order: Tuples maintain order, but sets are unordered.\n",
    "\n",
    ">> Duplicates: Tuples allow duplicates, while sets enforce uniqueness."
   ]
  },
  {
   "cell_type": "markdown",
   "id": "f928b1b1-65fb-4d49-b840-a21d8c6a2f4a",
   "metadata": {},
   "source": [
    "### Summary"
   ]
  },
  {
   "cell_type": "raw",
   "id": "1d38ec2e-30d8-4e13-abea-ce75aa6342d5",
   "metadata": {},
   "source": [
    ">> Use tuples when you need an ordered, immutable collection (e.g., returning multiple values or storing fixed constants).\n",
    "\n",
    ">> Use sets when you need an unordered collection with unique elements, and when you plan to perform set operations (e.g., union, intersection)."
   ]
  },
  {
   "cell_type": "markdown",
   "id": "4b2318b6-381d-4b99-9cb8-bfe61271c9e5",
   "metadata": {},
   "source": [
    "# Question 7"
   ]
  },
  {
   "cell_type": "markdown",
   "id": "1fafa6d7-a486-4218-9838-0d50a5c83856",
   "metadata": {},
   "source": [
    "## Describe how to add,modify and delete items in a dictionary with examples.\n"
   ]
  },
  {
   "cell_type": "raw",
   "id": "6a614fc3-f038-4393-8302-ee04561a3d52",
   "metadata": {},
   "source": [
    ">> In Python, a dictionary is a collection of key-value pairs, where each key is unique. You can add, modify, and delete items in a dictionary using various methods."
   ]
  },
  {
   "cell_type": "markdown",
   "id": "6623f608-ff4c-4125-b9bd-a1c82ae993fe",
   "metadata": {},
   "source": [
    "### 1. Adding Items to a Dictionary"
   ]
  },
  {
   "cell_type": "raw",
   "id": "0f014a81-55db-41f0-958d-44639530dd33",
   "metadata": {},
   "source": [
    ">> To add a new key-value pair to a dictionary, assign a value to a new key using the syntax \"dict[key] = value\"."
   ]
  },
  {
   "cell_type": "code",
   "execution_count": 59,
   "id": "567c816c-8be8-48e7-a514-b324608e3e72",
   "metadata": {},
   "outputs": [
    {
     "name": "stdout",
     "output_type": "stream",
     "text": [
      "{'name': 'John', 'age': 25, 'city': 'New York'}\n"
     ]
    }
   ],
   "source": [
    "# Example of adding items\n",
    "\n",
    "my_dict = {'name': 'John', 'age': 25}\n",
    "\n",
    "# Add a new key-value pair\n",
    "my_dict['city'] = 'New York'\n",
    "\n",
    "print(my_dict)  #Output :{'name': 'John', 'age': 25, 'city': 'New York'}"
   ]
  },
  {
   "cell_type": "markdown",
   "id": "ea143577-a544-4b4b-b8bc-442f5dfd8737",
   "metadata": {},
   "source": [
    "### 2. Modifying Items in a Dictionary"
   ]
  },
  {
   "cell_type": "raw",
   "id": "d2904251-9599-4e3f-8750-cefe87297c55",
   "metadata": {},
   "source": [
    ">> You can modify an existing key's value by reassigning a new value to it using the same \"dict[key] = value\" syntax."
   ]
  },
  {
   "cell_type": "code",
   "execution_count": 61,
   "id": "37c537cd-4d6e-4478-9882-575192baaa0b",
   "metadata": {},
   "outputs": [
    {
     "name": "stdout",
     "output_type": "stream",
     "text": [
      "{'name': 'John', 'age': 30, 'city': 'New York'}\n"
     ]
    }
   ],
   "source": [
    "# Example of modifying items\n",
    "\n",
    "my_dict = {'name': 'John', 'age': 25, 'city': 'New York'}\n",
    "\n",
    "# Modify an existing key's value\n",
    "my_dict['age'] = 30\n",
    "\n",
    "print(my_dict)  #Output : {'name': 'John', 'age': 30, 'city': 'New York'}"
   ]
  },
  {
   "cell_type": "markdown",
   "id": "1a077f98-2a1b-4b38-839a-f85d9e7235f8",
   "metadata": {},
   "source": [
    "### 3. Deleting Items from a Dictionary"
   ]
  },
  {
   "cell_type": "raw",
   "id": "0eefe43e-3114-4518-aee9-06d851403505",
   "metadata": {},
   "source": [
    ">> You can delete a key-value pair from a dictionary using one of the following methods:\n",
    "\n",
    ">> del dict[key]: Removes the key and its associated value.\n",
    "\n",
    ">> dict.pop(key): Removes the key and returns its value.\n",
    "\n",
    ">> dict.popitem(): Removes the last inserted key-value pair."
   ]
  },
  {
   "cell_type": "code",
   "execution_count": 68,
   "id": "d97ebacd-b351-4ba0-99d5-9cbd7e32abfa",
   "metadata": {},
   "outputs": [
    {
     "name": "stdout",
     "output_type": "stream",
     "text": [
      "{'name': 'John', 'age': 30}\n"
     ]
    }
   ],
   "source": [
    "# Example of deleting items using del\n",
    "\n",
    "my_dict = {'name': 'John', 'age': 30, 'city': 'New York'}\n",
    "\n",
    "# Delete a key-value pair\n",
    "del my_dict['city']\n",
    "\n",
    "print(my_dict)"
   ]
  },
  {
   "cell_type": "code",
   "execution_count": 69,
   "id": "a8f321cf-73f1-4c0c-bd7f-8d9a4109484f",
   "metadata": {},
   "outputs": [
    {
     "name": "stdout",
     "output_type": "stream",
     "text": [
      "{'name': 'John', 'city': 'New York'}\n",
      "30\n"
     ]
    }
   ],
   "source": [
    "# Example of deleting using pop\n",
    "\n",
    "my_dict = {'name': 'John', 'age': 30, 'city': 'New York'}\n",
    "\n",
    "# Remove a key and get its value\n",
    "removed_value = my_dict.pop('age')\n",
    "\n",
    "print(my_dict)    # Dictionary after deletion\n",
    "print(removed_value)  # The value of the removed key"
   ]
  },
  {
   "cell_type": "code",
   "execution_count": 73,
   "id": "c04806f0-004d-4e2b-829d-03b04b31eb17",
   "metadata": {},
   "outputs": [
    {
     "name": "stdout",
     "output_type": "stream",
     "text": [
      "{'name': 'John', 'age': 30}\n"
     ]
    }
   ],
   "source": [
    "# Example of deleting using popitem\n",
    "\n",
    "my_dict = {'name': 'John', 'age': 30, 'city': 'New York'}\n",
    "\n",
    "# Remove the last added key-value pair\n",
    "my_dict.popitem()\n",
    "\n",
    "print(my_dict)"
   ]
  },
  {
   "cell_type": "markdown",
   "id": "04d1af48-7349-4402-9bdb-936094c98ea4",
   "metadata": {},
   "source": [
    "### 4. Clearing All Items from a Dictionary"
   ]
  },
  {
   "cell_type": "raw",
   "id": "3080540c-5e97-4662-aedd-adbf5c2877f5",
   "metadata": {},
   "source": [
    ">> To remove all items from a dictionary, you can use the clear() method:"
   ]
  },
  {
   "cell_type": "code",
   "execution_count": 74,
   "id": "c5d66f95-4b4e-4c54-9eb7-6efb834addc2",
   "metadata": {},
   "outputs": [
    {
     "name": "stdout",
     "output_type": "stream",
     "text": [
      "{}\n"
     ]
    }
   ],
   "source": [
    "# Example of Clear()\n",
    "\n",
    "my_dict = {'name': 'John', 'age': 30, 'city': 'New York'}\n",
    "\n",
    "# Clearing all items\n",
    "my_dict.clear()\n",
    "\n",
    "print(my_dict)"
   ]
  },
  {
   "cell_type": "markdown",
   "id": "09a40afa-ed2d-4033-834b-078eacc9beb3",
   "metadata": {},
   "source": [
    "### Summary"
   ]
  },
  {
   "cell_type": "raw",
   "id": "3e16b405-ece3-4067-b587-c229d88aac1c",
   "metadata": {},
   "source": [
    ">> Add items: my_dict[key] = value\n",
    "\n",
    ">> Modify items: my_dict[key] = new_value\n",
    "\n",
    ">> Delete items: del my_dict[key] or my_dict.pop(key)\n",
    "\n",
    ">> Clear all items: my_dict.clear()"
   ]
  },
  {
   "cell_type": "markdown",
   "id": "f45b2f94-1e0c-4225-8568-462eb0022ae2",
   "metadata": {},
   "source": [
    "# Question 8 "
   ]
  },
  {
   "cell_type": "markdown",
   "id": "5c81c958-c2af-4fa3-a3c4-8e3b5a4d56cb",
   "metadata": {},
   "source": [
    "## Discuss the importance of dictionary keys being immutable and provide examples."
   ]
  },
  {
   "cell_type": "raw",
   "id": "c0600218-a24c-40a6-8d40-718625a3623d",
   "metadata": {},
   "source": [
    ">> In Python, dictionary keys must be immutable to ensure the integrity and consistency of data structures. This requirement stems from the way dictionaries work internally."
   ]
  },
  {
   "cell_type": "markdown",
   "id": "065a4a70-2d4a-466e-92d2-292160708917",
   "metadata": {},
   "source": [
    "### Importance of Dictionary Keys Being Immutable:"
   ]
  },
  {
   "cell_type": "markdown",
   "id": "d886f045-df78-451f-b5cb-fabd59a0471a",
   "metadata": {},
   "source": [
    "#### 1. Hashability:"
   ]
  },
  {
   "cell_type": "raw",
   "id": "c03684dd-ddec-4234-b21f-b00d028b6183",
   "metadata": {},
   "source": [
    ">> Dictionaries in Python are implemented using hash tables. \n",
    "\n",
    ">> For a key to be used in a dictionary, it must have a hash value, which is generated by the hash() function. \n",
    "\n",
    ">> This hash value is used to quickly locate the corresponding value in the dictionary. \n",
    "\n",
    ">> Immutable objects, like integers, strings, and tuples (containing only immutable elements), have a fixed hash value because their content doesn't change. \n",
    "\n",
    ">> If the object was mutable, its hash value could change, causing inconsistencies in locating items."
   ]
  },
  {
   "cell_type": "markdown",
   "id": "ca44b8c5-40b7-47b3-8e4c-ba256b60ba79",
   "metadata": {},
   "source": [
    "#### 2. Consistency in Lookups: "
   ]
  },
  {
   "cell_type": "raw",
   "id": "b9847dbf-fcd7-42bc-87ee-01aec060ada2",
   "metadata": {},
   "source": [
    ">> If dictionary keys were mutable, modifying a key after it has been inserted into a dictionary would lead to incorrect lookups. \n",
    "\n",
    ">> Since the dictionary relies on the hash of the key, any change in the key’s value would make it impossible to find the key in the dictionary again, even though it technically exists in the data structure."
   ]
  },
  {
   "cell_type": "markdown",
   "id": "b5a049e3-e7f7-44ae-be7c-543294a4e276",
   "metadata": {},
   "source": [
    "#### 3. Performance Optimization:"
   ]
  },
  {
   "cell_type": "raw",
   "id": "5c3cfc72-d233-408b-b890-162598c6dd7a",
   "metadata": {},
   "source": [
    ">> Using immutable keys helps in maintaining efficient lookups, inserts, and deletions. \n",
    "\n",
    ">> This efficiency is crucial for the performance of dictionaries, especially for large datasets, as the underlying hash table allows constant-time complexity for these operations."
   ]
  },
  {
   "cell_type": "markdown",
   "id": "6b35296a-3b6a-41c2-9d7f-60b8574228f9",
   "metadata": {},
   "source": [
    "### Examples:"
   ]
  },
  {
   "cell_type": "markdown",
   "id": "5aafd110-baf1-4a16-9c5e-30cfaf8db147",
   "metadata": {},
   "source": [
    "#### Example 1: Using Immutable Keys"
   ]
  },
  {
   "cell_type": "code",
   "execution_count": 1,
   "id": "22d26587-bef6-4018-85b3-90664a1041a1",
   "metadata": {},
   "outputs": [
    {
     "name": "stdout",
     "output_type": "stream",
     "text": [
      "one\n",
      "Alice\n",
      "tuple_key\n"
     ]
    }
   ],
   "source": [
    "# Keys are immutable objects (strings, integers)\n",
    "\n",
    "my_dict = {\n",
    "    1: 'one',\n",
    "    'name': 'Alice',\n",
    "    (1, 2): 'tuple_key'  # Tuple as key\n",
    "}\n",
    "print(my_dict[1])           # Output: 'one'\n",
    "print(my_dict['name'])      # Output: 'Alice'\n",
    "print(my_dict[(1, 2)])      # Output: 'tuple_key'"
   ]
  },
  {
   "cell_type": "raw",
   "id": "2873bb85-bdc8-4bdc-8677-8ac5b0125fc0",
   "metadata": {},
   "source": [
    ">> In this example, integers, strings, and tuples (with immutable elements) are used as keys, and the dictionary operations work seamlessly."
   ]
  },
  {
   "cell_type": "markdown",
   "id": "7d451153-2a9d-497b-9565-85880e1e52d2",
   "metadata": {},
   "source": [
    "#### Example 2: Attempting to Use Mutable Keys"
   ]
  },
  {
   "cell_type": "code",
   "execution_count": null,
   "id": "bdeb0fd6-9a97-45e1-a033-c0eae1320223",
   "metadata": {},
   "outputs": [],
   "source": [
    "my_list = [1, 2, 3]\n",
    "my_dict = {my_list: 'list_key'}  # This raises a TypeError"
   ]
  },
  {
   "cell_type": "raw",
   "id": "a8028356-471e-4b29-a3d3-037169fdcd2c",
   "metadata": {},
   "source": [
    ">> Here, a TypeError is raised because lists are mutable and cannot be used as dictionary keys."
   ]
  },
  {
   "cell_type": "markdown",
   "id": "ad9bf9e0-a483-495c-be69-b82f99bd357d",
   "metadata": {},
   "source": [
    "#### Example 3: Mutating a Tuple Inside a Dictionary Key\n"
   ]
  },
  {
   "cell_type": "code",
   "execution_count": null,
   "id": "8686f076-bf5d-4d09-b351-be161046c24f",
   "metadata": {},
   "outputs": [],
   "source": [
    "# Tuples are immutable, but if they contain mutable objects, issues arise\n",
    "mutable_key = ([1, 2], 'a')  # Tuple containing a list (mutable)\n",
    "my_dict = {mutable_key: 'error'}  # This raises a TypeError"
   ]
  },
  {
   "cell_type": "raw",
   "id": "4cfd8ec8-4487-4e68-bb38-5f28cab4e1a4",
   "metadata": {},
   "source": [
    ">> Even though the outer tuple is immutable, it contains a list, which is mutable. This causes an error because it violates the immutability requirement for keys."
   ]
  },
  {
   "cell_type": "markdown",
   "id": "72ebdbb4-b00c-4f11-a6af-101baee7e5cc",
   "metadata": {},
   "source": [
    "### Conclusion:"
   ]
  },
  {
   "cell_type": "raw",
   "id": "f2e4dd51-c5a5-45d0-a46a-a9f029ae0a1f",
   "metadata": {},
   "source": [
    ">> Immutability of dictionary keys is essential for maintaining the integrity, consistency, and efficiency of dictionary operations in Python. \n",
    "\n",
    ">> Immutable types like integers, strings, and tuples make reliable dictionary keys because their values cannot change after creation. \n",
    "\n",
    ">> This ensures the hash values remain consistent and enables fast and predictable lookups."
   ]
  },
  {
   "cell_type": "code",
   "execution_count": null,
   "id": "17555ced-971e-4120-96a5-fa6e4c396f0c",
   "metadata": {},
   "outputs": [],
   "source": []
  }
 ],
 "metadata": {
  "kernelspec": {
   "display_name": "Python 3 (ipykernel)",
   "language": "python",
   "name": "python3"
  },
  "language_info": {
   "codemirror_mode": {
    "name": "ipython",
    "version": 3
   },
   "file_extension": ".py",
   "mimetype": "text/x-python",
   "name": "python",
   "nbconvert_exporter": "python",
   "pygments_lexer": "ipython3",
   "version": "3.10.8"
  }
 },
 "nbformat": 4,
 "nbformat_minor": 5
}
